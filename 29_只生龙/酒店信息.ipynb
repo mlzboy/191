{
 "cells": [
  {
   "cell_type": "code",
   "execution_count": 1,
   "metadata": {},
   "outputs": [],
   "source": [
    "from selenium import webdriver\n",
    "import re,time\n",
    "driver=webdriver.Chrome()\n",
    "url = 'https://map.baidu.com/search/%E9%85%92%E5%BA%97/@13401816.6,3523321.62,17z?querytype=nb&r=1000&wd=%E9%85%92%E5%BA%97&nb_x=13401816.60&nb_y=3523321.62&uid=7a0cb8c0d67a634683a00c28&b=(13400809.909611505,3522782.19066226;13402823.09336229,3524093.869264365)&l=17&gr_radius=1000&pn=0&device_ratio=2&da_src=shareurl'\n",
    "driver.get(url)"
   ]
  },
  {
   "cell_type": "code",
   "execution_count": 8,
   "metadata": {
    "scrolled": false
   },
   "outputs": [],
   "source": [
    "al = []\n",
    "while True:\n",
    "        html = driver.page_source\n",
    "        reobj = re.compile(r'\"list_page\">([\\d\\D]*?)</a>[\\d\\D]*?</i>([\\d\\D]*?)</span>[\\d\\D]*?\"n-grey\" title=\"([\\d\\D]*?)\">')\n",
    "        for match in reobj.finditer(html):\n",
    "            a = match.group(1)\n",
    "            c = match.group(2)\n",
    "            b = match.group(3)\n",
    "            d = (a,c,b)\n",
    "            al.append(d)\n",
    "        match = re.search('return false;\">下一页&gt;</a>', html)\n",
    "        if match:\n",
    "            driver.find_element_by_link_text(u\"下一页>\").click()\n",
    "            time.sleep(2)\n",
    "        else:\n",
    "            break"
   ]
  },
  {
   "cell_type": "code",
   "execution_count": 9,
   "metadata": {},
   "outputs": [],
   "source": [
    "import codecs\n",
    "f = codecs.open(r\"C:\\Intel\\zsl(1).csv\",\"w\",\"utf_8_sig\")\n",
    "f.write(\"酒店名称,类型,地址\\n\")\n",
    "for i in al:\n",
    "   f.write(\",\".join(i)+\"\\n\") \n",
    "f.close()"
   ]
  },
  {
   "cell_type": "code",
   "execution_count": null,
   "metadata": {},
   "outputs": [],
   "source": []
  }
 ],
 "metadata": {
  "kernelspec": {
   "display_name": "Python 3",
   "language": "python",
   "name": "python3"
  },
  "language_info": {
   "codemirror_mode": {
    "name": "ipython",
    "version": 3
   },
   "file_extension": ".py",
   "mimetype": "text/x-python",
   "name": "python",
   "nbconvert_exporter": "python",
   "pygments_lexer": "ipython3",
   "version": "3.7.4"
  }
 },
 "nbformat": 4,
 "nbformat_minor": 2
}
