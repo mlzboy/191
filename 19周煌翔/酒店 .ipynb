{
 "cells": [
  {
   "cell_type": "code",
   "execution_count": 20,
   "metadata": {},
   "outputs": [
    {
     "name": "stdout",
     "output_type": "stream",
     "text": [
      "酒店名称 ,评分： ,类型：,地址：\n",
      "('TEL茶砚酒店', '                    4.2/5分', '舒适型               ', '学源街239号浙江经贸学院北门')\n",
      "[('TEL茶砚酒店', '                    4.2/5分', '舒适型               ', '学源街239号浙江经贸学院北门')]\n",
      "('速8酒店(杭州下沙金沙居店)', '                    3.9/5分', '经济型               ', '杭州市江干区学正街567号金沙居B座3层')\n",
      "[('TEL茶砚酒店', '                    4.2/5分', '舒适型               ', '学源街239号浙江经贸学院北门'), ('速8酒店(杭州下沙金沙居店)', '                    3.9/5分', '经济型               ', '杭州市江干区学正街567号金沙居B座3层')]\n",
      "('后街主题酒店', '                    4.1/5分', '经济型               ', '浙江省杭州市江干区下沙学正街559号(金沙居B座)')\n",
      "[('TEL茶砚酒店', '                    4.2/5分', '舒适型               ', '学源街239号浙江经贸学院北门'), ('速8酒店(杭州下沙金沙居店)', '                    3.9/5分', '经济型               ', '杭州市江干区学正街567号金沙居B座3层'), ('后街主题酒店', '                    4.1/5分', '经济型               ', '浙江省杭州市江干区下沙学正街559号(金沙居B座)')]\n",
      "('杭州青芒酒店', '                    4.6/5分', '经济型               ', '浙江省杭州市江干区学正街388号阳光创富中心10楼')\n",
      "[('TEL茶砚酒店', '                    4.2/5分', '舒适型               ', '学源街239号浙江经贸学院北门'), ('速8酒店(杭州下沙金沙居店)', '                    3.9/5分', '经济型               ', '杭州市江干区学正街567号金沙居B座3层'), ('后街主题酒店', '                    4.1/5分', '经济型               ', '浙江省杭州市江干区下沙学正街559号(金沙居B座)'), ('杭州青芒酒店', '                    4.6/5分', '经济型               ', '浙江省杭州市江干区学正街388号阳光创富中心10楼')]\n",
      "('沙城旅馆', '                    2.5/5分', '经济型               ', '杭州市江干区２５号大街与６号大街交叉路口往北约100米(金沙学府)')\n",
      "[('TEL茶砚酒店', '                    4.2/5分', '舒适型               ', '学源街239号浙江经贸学院北门'), ('速8酒店(杭州下沙金沙居店)', '                    3.9/5分', '经济型               ', '杭州市江干区学正街567号金沙居B座3层'), ('后街主题酒店', '                    4.1/5分', '经济型               ', '浙江省杭州市江干区下沙学正街559号(金沙居B座)'), ('杭州青芒酒店', '                    4.6/5分', '经济型               ', '浙江省杭州市江干区学正街388号阳光创富中心10楼'), ('沙城旅馆', '                    2.5/5分', '经济型               ', '杭州市江干区２５号大街与６号大街交叉路口往北约100米(金沙学府)')]\n",
      "('贝壳酒店(学正街店)', '                    4.6/5分', '经济型               ', '浙江省杭州市江干区学正街539号')\n",
      "[('TEL茶砚酒店', '                    4.2/5分', '舒适型               ', '学源街239号浙江经贸学院北门'), ('速8酒店(杭州下沙金沙居店)', '                    3.9/5分', '经济型               ', '杭州市江干区学正街567号金沙居B座3层'), ('后街主题酒店', '                    4.1/5分', '经济型               ', '浙江省杭州市江干区下沙学正街559号(金沙居B座)'), ('杭州青芒酒店', '                    4.6/5分', '经济型               ', '浙江省杭州市江干区学正街388号阳光创富中心10楼'), ('沙城旅馆', '                    2.5/5分', '经济型               ', '杭州市江干区２５号大街与６号大街交叉路口往北约100米(金沙学府)'), ('贝壳酒店(学正街店)', '                    4.6/5分', '经济型               ', '浙江省杭州市江干区学正街539号')]\n",
      "('杭州暖巢公寓', '                    0.0/5分', '酒店               ', '浙江省杭州市江干区经济开发区宝龙城市广场')\n",
      "[('TEL茶砚酒店', '                    4.2/5分', '舒适型               ', '学源街239号浙江经贸学院北门'), ('速8酒店(杭州下沙金沙居店)', '                    3.9/5分', '经济型               ', '杭州市江干区学正街567号金沙居B座3层'), ('后街主题酒店', '                    4.1/5分', '经济型               ', '浙江省杭州市江干区下沙学正街559号(金沙居B座)'), ('杭州青芒酒店', '                    4.6/5分', '经济型               ', '浙江省杭州市江干区学正街388号阳光创富中心10楼'), ('沙城旅馆', '                    2.5/5分', '经济型               ', '杭州市江干区２５号大街与６号大街交叉路口往北约100米(金沙学府)'), ('贝壳酒店(学正街店)', '                    4.6/5分', '经济型               ', '浙江省杭州市江干区学正街539号'), ('杭州暖巢公寓', '                    0.0/5分', '酒店               ', '浙江省杭州市江干区经济开发区宝龙城市广场')]\n",
      "('杭州陌上花开2019公寓', '                    5.0/5分', '酒店               ', '浙江省杭州市江干区宝龙城市广场二期')\n"
     ]
    },
    {
     "ename": "NoSuchElementException",
     "evalue": "Message: no such element: Unable to locate element: {\"method\":\"link text\",\"selector\":\"下一页>\"}\n  (Session info: chrome=83.0.4103.116)\n",
     "output_type": "error",
     "traceback": [
      "\u001b[1;31m---------------------------------------------------------------------------\u001b[0m",
      "\u001b[1;31mNoSuchElementException\u001b[0m                    Traceback (most recent call last)",
      "\u001b[1;32m<ipython-input-20-232c10afa038>\u001b[0m in \u001b[0;36m<module>\u001b[1;34m\u001b[0m\n\u001b[0;32m     18\u001b[0m     \u001b[0mprint\u001b[0m\u001b[1;33m(\u001b[0m\u001b[0mx\u001b[0m\u001b[1;33m)\u001b[0m\u001b[1;33m\u001b[0m\u001b[1;33m\u001b[0m\u001b[0m\n\u001b[0;32m     19\u001b[0m     \u001b[0mlist\u001b[0m\u001b[1;33m.\u001b[0m\u001b[0mappend\u001b[0m\u001b[1;33m(\u001b[0m\u001b[0mx\u001b[0m\u001b[1;33m)\u001b[0m\u001b[1;33m\u001b[0m\u001b[1;33m\u001b[0m\u001b[0m\n\u001b[1;32m---> 20\u001b[1;33m     \u001b[0mdriver\u001b[0m\u001b[1;33m.\u001b[0m\u001b[0mfind_element_by_link_text\u001b[0m\u001b[1;33m(\u001b[0m\u001b[1;34mu\"下一页>\"\u001b[0m\u001b[1;33m)\u001b[0m\u001b[1;33m.\u001b[0m\u001b[0mclick\u001b[0m\u001b[1;33m(\u001b[0m\u001b[1;33m)\u001b[0m\u001b[1;33m\u001b[0m\u001b[1;33m\u001b[0m\u001b[0m\n\u001b[0m\u001b[0;32m     21\u001b[0m     \u001b[0mtime\u001b[0m\u001b[1;33m.\u001b[0m\u001b[0msleep\u001b[0m\u001b[1;33m(\u001b[0m\u001b[1;36m2\u001b[0m\u001b[1;33m)\u001b[0m\u001b[1;33m\u001b[0m\u001b[1;33m\u001b[0m\u001b[0m\n\u001b[0;32m     22\u001b[0m     \u001b[0mprint\u001b[0m\u001b[1;33m(\u001b[0m\u001b[0mlist\u001b[0m\u001b[1;33m)\u001b[0m\u001b[1;33m\u001b[0m\u001b[1;33m\u001b[0m\u001b[0m\n",
      "\u001b[1;32m~\\Anaconda3\\lib\\site-packages\\selenium\\webdriver\\remote\\webdriver.py\u001b[0m in \u001b[0;36mfind_element_by_link_text\u001b[1;34m(self, link_text)\u001b[0m\n\u001b[0;32m    426\u001b[0m             \u001b[0melement\u001b[0m \u001b[1;33m=\u001b[0m \u001b[0mdriver\u001b[0m\u001b[1;33m.\u001b[0m\u001b[0mfind_element_by_link_text\u001b[0m\u001b[1;33m(\u001b[0m\u001b[1;34m'Sign In'\u001b[0m\u001b[1;33m)\u001b[0m\u001b[1;33m\u001b[0m\u001b[1;33m\u001b[0m\u001b[0m\n\u001b[0;32m    427\u001b[0m         \"\"\"\n\u001b[1;32m--> 428\u001b[1;33m         \u001b[1;32mreturn\u001b[0m \u001b[0mself\u001b[0m\u001b[1;33m.\u001b[0m\u001b[0mfind_element\u001b[0m\u001b[1;33m(\u001b[0m\u001b[0mby\u001b[0m\u001b[1;33m=\u001b[0m\u001b[0mBy\u001b[0m\u001b[1;33m.\u001b[0m\u001b[0mLINK_TEXT\u001b[0m\u001b[1;33m,\u001b[0m \u001b[0mvalue\u001b[0m\u001b[1;33m=\u001b[0m\u001b[0mlink_text\u001b[0m\u001b[1;33m)\u001b[0m\u001b[1;33m\u001b[0m\u001b[1;33m\u001b[0m\u001b[0m\n\u001b[0m\u001b[0;32m    429\u001b[0m \u001b[1;33m\u001b[0m\u001b[0m\n\u001b[0;32m    430\u001b[0m     \u001b[1;32mdef\u001b[0m \u001b[0mfind_elements_by_link_text\u001b[0m\u001b[1;33m(\u001b[0m\u001b[0mself\u001b[0m\u001b[1;33m,\u001b[0m \u001b[0mtext\u001b[0m\u001b[1;33m)\u001b[0m\u001b[1;33m:\u001b[0m\u001b[1;33m\u001b[0m\u001b[1;33m\u001b[0m\u001b[0m\n",
      "\u001b[1;32m~\\Anaconda3\\lib\\site-packages\\selenium\\webdriver\\remote\\webdriver.py\u001b[0m in \u001b[0;36mfind_element\u001b[1;34m(self, by, value)\u001b[0m\n\u001b[0;32m    976\u001b[0m         return self.execute(Command.FIND_ELEMENT, {\n\u001b[0;32m    977\u001b[0m             \u001b[1;34m'using'\u001b[0m\u001b[1;33m:\u001b[0m \u001b[0mby\u001b[0m\u001b[1;33m,\u001b[0m\u001b[1;33m\u001b[0m\u001b[1;33m\u001b[0m\u001b[0m\n\u001b[1;32m--> 978\u001b[1;33m             'value': value})['value']\n\u001b[0m\u001b[0;32m    979\u001b[0m \u001b[1;33m\u001b[0m\u001b[0m\n\u001b[0;32m    980\u001b[0m     \u001b[1;32mdef\u001b[0m \u001b[0mfind_elements\u001b[0m\u001b[1;33m(\u001b[0m\u001b[0mself\u001b[0m\u001b[1;33m,\u001b[0m \u001b[0mby\u001b[0m\u001b[1;33m=\u001b[0m\u001b[0mBy\u001b[0m\u001b[1;33m.\u001b[0m\u001b[0mID\u001b[0m\u001b[1;33m,\u001b[0m \u001b[0mvalue\u001b[0m\u001b[1;33m=\u001b[0m\u001b[1;32mNone\u001b[0m\u001b[1;33m)\u001b[0m\u001b[1;33m:\u001b[0m\u001b[1;33m\u001b[0m\u001b[1;33m\u001b[0m\u001b[0m\n",
      "\u001b[1;32m~\\Anaconda3\\lib\\site-packages\\selenium\\webdriver\\remote\\webdriver.py\u001b[0m in \u001b[0;36mexecute\u001b[1;34m(self, driver_command, params)\u001b[0m\n\u001b[0;32m    319\u001b[0m         \u001b[0mresponse\u001b[0m \u001b[1;33m=\u001b[0m \u001b[0mself\u001b[0m\u001b[1;33m.\u001b[0m\u001b[0mcommand_executor\u001b[0m\u001b[1;33m.\u001b[0m\u001b[0mexecute\u001b[0m\u001b[1;33m(\u001b[0m\u001b[0mdriver_command\u001b[0m\u001b[1;33m,\u001b[0m \u001b[0mparams\u001b[0m\u001b[1;33m)\u001b[0m\u001b[1;33m\u001b[0m\u001b[1;33m\u001b[0m\u001b[0m\n\u001b[0;32m    320\u001b[0m         \u001b[1;32mif\u001b[0m \u001b[0mresponse\u001b[0m\u001b[1;33m:\u001b[0m\u001b[1;33m\u001b[0m\u001b[1;33m\u001b[0m\u001b[0m\n\u001b[1;32m--> 321\u001b[1;33m             \u001b[0mself\u001b[0m\u001b[1;33m.\u001b[0m\u001b[0merror_handler\u001b[0m\u001b[1;33m.\u001b[0m\u001b[0mcheck_response\u001b[0m\u001b[1;33m(\u001b[0m\u001b[0mresponse\u001b[0m\u001b[1;33m)\u001b[0m\u001b[1;33m\u001b[0m\u001b[1;33m\u001b[0m\u001b[0m\n\u001b[0m\u001b[0;32m    322\u001b[0m             response['value'] = self._unwrap_value(\n\u001b[0;32m    323\u001b[0m                 response.get('value', None))\n",
      "\u001b[1;32m~\\Anaconda3\\lib\\site-packages\\selenium\\webdriver\\remote\\errorhandler.py\u001b[0m in \u001b[0;36mcheck_response\u001b[1;34m(self, response)\u001b[0m\n\u001b[0;32m    240\u001b[0m                 \u001b[0malert_text\u001b[0m \u001b[1;33m=\u001b[0m \u001b[0mvalue\u001b[0m\u001b[1;33m[\u001b[0m\u001b[1;34m'alert'\u001b[0m\u001b[1;33m]\u001b[0m\u001b[1;33m.\u001b[0m\u001b[0mget\u001b[0m\u001b[1;33m(\u001b[0m\u001b[1;34m'text'\u001b[0m\u001b[1;33m)\u001b[0m\u001b[1;33m\u001b[0m\u001b[1;33m\u001b[0m\u001b[0m\n\u001b[0;32m    241\u001b[0m             \u001b[1;32mraise\u001b[0m \u001b[0mexception_class\u001b[0m\u001b[1;33m(\u001b[0m\u001b[0mmessage\u001b[0m\u001b[1;33m,\u001b[0m \u001b[0mscreen\u001b[0m\u001b[1;33m,\u001b[0m \u001b[0mstacktrace\u001b[0m\u001b[1;33m,\u001b[0m \u001b[0malert_text\u001b[0m\u001b[1;33m)\u001b[0m\u001b[1;33m\u001b[0m\u001b[1;33m\u001b[0m\u001b[0m\n\u001b[1;32m--> 242\u001b[1;33m         \u001b[1;32mraise\u001b[0m \u001b[0mexception_class\u001b[0m\u001b[1;33m(\u001b[0m\u001b[0mmessage\u001b[0m\u001b[1;33m,\u001b[0m \u001b[0mscreen\u001b[0m\u001b[1;33m,\u001b[0m \u001b[0mstacktrace\u001b[0m\u001b[1;33m)\u001b[0m\u001b[1;33m\u001b[0m\u001b[1;33m\u001b[0m\u001b[0m\n\u001b[0m\u001b[0;32m    243\u001b[0m \u001b[1;33m\u001b[0m\u001b[0m\n\u001b[0;32m    244\u001b[0m     \u001b[1;32mdef\u001b[0m \u001b[0m_value_or_default\u001b[0m\u001b[1;33m(\u001b[0m\u001b[0mself\u001b[0m\u001b[1;33m,\u001b[0m \u001b[0mobj\u001b[0m\u001b[1;33m,\u001b[0m \u001b[0mkey\u001b[0m\u001b[1;33m,\u001b[0m \u001b[0mdefault\u001b[0m\u001b[1;33m)\u001b[0m\u001b[1;33m:\u001b[0m\u001b[1;33m\u001b[0m\u001b[1;33m\u001b[0m\u001b[0m\n",
      "\u001b[1;31mNoSuchElementException\u001b[0m: Message: no such element: Unable to locate element: {\"method\":\"link text\",\"selector\":\"下一页>\"}\n  (Session info: chrome=83.0.4103.116)\n"
     ]
    }
   ],
   "source": [
    "from selenium import webdriver\n",
    "driver=webdriver.Chrome()\n",
    "url = 'https://map.baidu.com/search/%E6%B5%99%E6%B1%9F%E7%BB%8F%E8%B4%B8%E8%81%8C%E4%B8%9A%E6%8A%80%E6%9C%AF%E5%AD%A6%E9%99%A2%E9%99%84%E8%BF%91%E9%85%92%E5%BA%97/@13400964.02,3522574.2,16z?querytype=s&c=179&wd=%E6%B5%99%E6%B1%9F%E7%BB%8F%E8%B4%B8%E8%81%8C%E4%B8%9A%E6%8A%80%E6%9C%AF%E5%AD%A6%E9%99%A2%E9%99%84%E8%BF%91%E9%85%92%E5%BA%97&da_src=shareurl&on_gel=1&l=16&gr=2&b=(13398896.02,3521420.2;13403032.02,3523728.2)&pl_data_type=hotel&pl_sub_type=%E9%85%92%E5%BA%97&pl_price_section=0,%2B&pl_sort_type=default&pl_sort_rule=0&pl_discount2_section=0,%2B&pl_groupon_section=0,%2B&pl_cater_book_pc_section=0,%2B&pl_hotel_book_pc_section=0,%2B&pl_ticket_book_flag_section=0,%2B&pl_movie_book_section=0,%2B&pl_business_type=hotel&pn=0&device_ratio=1'\n",
    "driver.get(url)\n",
    "import re,time\n",
    "list = []\n",
    "html = driver.page_source \n",
    "print(\"酒店名称\",\",评分：\",\",类型：\"\",地址：\")  # 提取四方面信息\n",
    "for i in range(2):\n",
    "    html = driver.page_source\n",
    "reobj = re.compile(r'list_page\">([\\d\\D]*?)</a>[\\d\\D]*?<span>([\\d\\D]*?)<i[\\d\\D]*?\\|</i>([\\d\\D]*?) </span[\\d\\D]*?title=\"([\\d\\D]*?)\">')\n",
    "for match in reobj.finditer(html):  \n",
    "    a=match.group(1)\n",
    "    b=match.group(2)\n",
    "    c=match.group(3)\n",
    "    d=match.group(4)\n",
    "    x = (a,b,c,d)\n",
    "    print(x)\n",
    "    list.append(x)\n",
    "    driver.find_element_by_link_text(u\"下一页>\").click()\n",
    "    time.sleep(2)\n",
    "    print(list)"
   ]
  },
  {
   "cell_type": "code",
   "execution_count": null,
   "metadata": {},
   "outputs": [],
   "source": []
  },
  {
   "cell_type": "code",
   "execution_count": null,
   "metadata": {},
   "outputs": [],
   "source": []
  }
 ],
 "metadata": {
  "kernelspec": {
   "display_name": "Python 3",
   "language": "python",
   "name": "python3"
  }
 },
 "nbformat": 4,
 "nbformat_minor": 2
}
