{
 "cells": [
  {
   "cell_type": "code",
   "execution_count": 4,
   "metadata": {},
   "outputs": [],
   "source": [
    "from selenium import webdriver\n",
    "import re,time\n",
    "driver = webdriver.Chrome()\n",
    "urls = [(\"https://pintia.cn/problem-sets/1111652100718116864/problems/type/6\"),\n",
    "        (\"https://pintia.cn/problem-sets/1111652100718116864/problems/type/7\")]\n",
    "def get_html(url):\n",
    "    driver.get(url)\n",
    "    time.sleep(5)\n",
    "    html=driver.page_source\n",
    "    return html\n",
    "def extract_info(html,category):\n",
    "    import re\n",
    "    results=[]\n",
    "    reobj = re.compile(r'<td class=\"answerIcon_1du7d\"></td><td>([\\d\\D]*?)</td>[\\d\\D]*?class=\"\">([\\d\\D]*?)</a></td><td>([\\d\\D]*?)</td><td>([\\d\\D]*?)</td><td>([\\d\\D]*?)</td><td>([\\d\\D]*?)</td>')\n",
    "    for match in reobj.finditer(html):\n",
    "        tab = match.group(1)\n",
    "        Title = match.group(2)\n",
    "        Title = \"https://pintia.cn\" + b\n",
    "        grade = match.group(3)\n",
    "        Pass = match.group(4)\n",
    "        Submit = match.group(5)\n",
    "        Pass_Rate = match.group(6)\n",
    "        g = match.group(7)\n",
    "        print(\"标号：\",tab,\"url:\",Title,\"标题：\",grade,\"分数:\",Pass,\"通过数:\",Submit,\"提交数:\",Pass_Rate,\"通过率:\",g,category)\n",
    "        results.append([tab,Title,grade,Pass,Submit,Pass_Rate,g,category])\n",
    "    return results"
   ]
  },
  {
   "cell_type": "code",
   "execution_count": null,
   "metadata": {},
   "outputs": [],
   "source": []
  }
 ],
 "metadata": {
  "kernelspec": {
   "display_name": "Python 3",
   "language": "python",
   "name": "python3"
  },
  "language_info": {
   "codemirror_mode": {
    "name": "ipython",
    "version": 3
   },
   "file_extension": ".py",
   "mimetype": "text/x-python",
   "name": "python",
   "nbconvert_exporter": "python",
   "pygments_lexer": "ipython3",
   "version": "3.7.4"
  }
 },
 "nbformat": 4,
 "nbformat_minor": 2
}
