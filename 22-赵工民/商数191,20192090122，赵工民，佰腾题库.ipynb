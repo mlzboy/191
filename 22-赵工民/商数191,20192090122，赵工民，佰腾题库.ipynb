{
 "cells": [
  {
   "cell_type": "code",
   "execution_count": null,
   "metadata": {},
   "outputs": [],
   "source": [
    "url = ('https://pintia.cn/problem-sets/1111652100718116864/problems/type/7','https://pintia.cn/problem-sets/1111652100718116864/problems/type/6')\n",
    "liet = []\n",
    "from selenium import webdriver\n",
    "for i in url:\n",
    "    urls = i\n",
    "    import re,time,codecs\n",
    "    driver=webdriver.Chrome()\n",
    "    driver.get(urls)\n",
    "    time.sleep(3)\n",
    "    html = driver.page_source\n",
    "    reobj = re.compile(r'<td>([\\d\\D]*?)</td><td><a href=\"([\\d\\D]*?)?\" class=\"\">([\\d\\D]*?)</a></td><td>([\\d\\D]*?)</td><td>([\\d\\D]*?)</td><td>([\\d\\D]*?)</td><td>([\\d\\D]*?)</td></tr><tr><td class=\"answerIcon_1du7d\"></td>')\n",
    "    for match in reobj.finditer(html):\n",
    "        biaohao = match.group(1)#标号\n",
    "        lianjie = \"https://pintia.cn\" + match.group(2)#题目链接\n",
    "        biaoti =  match.group(3)#标题\n",
    "        fenshu = match.group(4)#分数\n",
    "        tongguoshu = match.group(5)#通过数\n",
    "        tijiaoshu = match.group(6)#提交数\n",
    "        tongguolv = match.group(7)#通过率\n",
    "        A = (biaohao,lianjie,biaoti,fenshu,tongguoshu,tijiaoshu,tongguolv)\n",
    "        liet.append(a)"
   ]
  },
  {
   "cell_type": "code",
   "execution_count": null,
   "metadata": {},
   "outputs": [],
   "source": [
    "\n",
    "from pony.orm import *\n",
    "\n",
    "\n",
    "db = Database()\n",
    "\n",
    "\n",
    "class Baiteng(db.Entity):\n",
    "    biaohao = Optional(str, column='biaohao')\n",
    "    lianjie = Optional(str, column=\"lianjie \")\n",
    "    xiangqingye = Optional(str, column='xiangqingye')\n",
    "    biaoti = Optional(str, column='biaoti')\n",
    "    fenshu = Optional(str, column='fenshu')\n",
    "    tongguoshu = Optional(str, column='tongguoshu')\n",
    "    tijiaoshu = Optional(str, column=\"tijiaoshu \")\n",
    "    tongguolv = Optional(str, column='tongguolv')\n",
    "\n",
    "\n",
    "\n",
    "#db.generate_mapping()\n",
    "db.bind(provider='sqlite', filename='C:/ZGM/baiteng.sqlite')\n",
    "\n",
    "db.generate_mapping(create_tables=True)\n",
    "#将实体映射到数据库表,参数create_tables = True表示如果实体指向的表尚不存在，则使用CREATE TABLE命令创建它们。必须在调用generate_mapping（）方法之前定义连接到数据库的所有实体。\n",
    "\n",
    "set_sql_debug(True)\n",
    "for x in liet:\n",
    "    s = Baitengtiku(biaohao=x[0],lianjie=x[1],biaoti=x[2],fenshu=x[3],tongguoshu=x[4],tijiaoshu=x[5],tongguolv=x[6])\n",
    "    db.commit()\n",
    "    xqy = Baitengtiku.select()\n",
    "for s in xqy:\n",
    "    driver=webdriver.Chrome()\n",
    "    driver.get(s.lianjie)\n",
    "    html = driver.page_source\n",
    "    time.sleep(2)\n",
    "    reobj = re.compile(r'<div style=\"width: 100%;\">([\\d\\D]*?)</div><div class=\"problemInfo_OZ-Rv\">')\n",
    "    for match in reobj.finditer(html):\n",
    "        a = match.group(1)\n",
    "        s.xiangqingye = a\n",
    "        db.commit()\n",
    "        driver.close()"
   ]
  },
  {
   "cell_type": "code",
   "execution_count": null,
   "metadata": {},
   "outputs": [],
   "source": []
  },
  {
   "cell_type": "code",
   "execution_count": null,
   "metadata": {},
   "outputs": [],
   "source": []
  }
 ],
 "metadata": {
  "kernelspec": {
   "display_name": "Python 3",
   "language": "python",
   "name": "python3"
  },
  "language_info": {
   "codemirror_mode": {
    "name": "ipython",
    "version": 3
   },
   "file_extension": ".py",
   "mimetype": "text/x-python",
   "name": "python",
   "nbconvert_exporter": "python",
   "pygments_lexer": "ipython3",
   "version": "3.7.1"
  }
 },
 "nbformat": 4,
 "nbformat_minor": 2
}
