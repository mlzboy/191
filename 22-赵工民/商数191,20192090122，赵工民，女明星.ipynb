{
 "cells": [
  {
   "cell_type": "code",
   "execution_count": null,
   "metadata": {},
   "outputs": [],
   "source": [
    "from selenium import webdriver \n",
    "driver=webdriver.Chrome()\n",
    "url = 'https://www.baidu.com/s?wd=明星&rsv_spt=1&rsv_iqid=0xbe4b76860031fb66&issp=1&f=8&rsv_bp=1&rsv_idx=2&ie=utf-8&rqlang=&tn=baiduhome_pg&ch=&rsv_enter=1&rsv_dl=ib&inputT=2978'\n",
    "driver.get(url)\n",
    "\n",
    "import time\n",
    "driver.find_element_by_xpath(\"//div[@id='1']/div/div/div/div[2]/p/span[4]\").click()\n",
    "time.sleep(1)\n",
    "driver.find_element_by_xpath(\"//div[@id='1']/div/div/div/div[2]/p[2]/span[3]\").click()\n",
    "\n",
    "import re \n",
    "import time\n",
    "list = []\n",
    "while True:\n",
    "    html = driver.page_source  \n",
    "    reobj1=re.compile('<span class=\"opui-page-next OP_LOG_BTN\" style=([\\d\\D]*?)>下一页</span>',re.MULTILINE)\n",
    "    for match in reobj1.finditer(html):\n",
    "        d=match.group(1)\n",
    "        print(d)\n",
    "        reobj = re.compile('<p class=\"op_exactqa_item_img\"><a href=\"([\\d\\D]*?)\" title=\"([\\d\\D]*?)\" target=\"_blank\"><img class=\"c-img c-img4\" src=\"[\\d\\D]*?\"></a>',re.MULTILINE)\n",
    "        for match in reobj.finditer(html):  \n",
    "            a=match.group(1)\n",
    "            b=match.group(2)\n",
    "            print(b,a)\n",
    "            list.append((b,a))\n",
    "    if d=='\"display: none;\"': \n",
    "        break\n",
    "    driver.find_element_by_xpath(\"//div[@id='1']/div/div/div[2]/div[2]/p/span[6]\").click() #从Katalon Recorder插件中copy过来的代码\n",
    "    time.sleep(2)\n",
    "\n"
   ]
  },
  {
   "cell_type": "code",
   "execution_count": null,
   "metadata": {},
   "outputs": [],
   "source": [
    "import codecs\n",
    "a=len(list)\n",
    "f = codecs.open(r\"D:\\女明星.csv\",\"w\",\"utf-8-sig\")\n",
    "f.write(\"网址\\n,姓名,照片\")\n",
    "for i in range (a):\n",
    "    a=list[i]\n",
    "    f.write(a[0]+\",\"+a[1]+\",\"+a[2]+\",\"+a[3]+\"\\n\")\n",
    "f.close()"
   ]
  }
 ],
 "metadata": {
  "kernelspec": {
   "display_name": "Python 3",
   "language": "python",
   "name": "python3"
  },
  "language_info": {
   "codemirror_mode": {
    "name": "ipython",
    "version": 3
   },
   "file_extension": ".py",
   "mimetype": "text/x-python",
   "name": "python",
   "nbconvert_exporter": "python",
   "pygments_lexer": "ipython3",
   "version": "3.7.1"
  }
 },
 "nbformat": 4,
 "nbformat_minor": 2
}
