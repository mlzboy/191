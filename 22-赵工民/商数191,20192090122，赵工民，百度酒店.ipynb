{
 "cells": [
  {
   "cell_type": "code",
   "execution_count": null,
   "metadata": {},
   "outputs": [],
   "source": [
    "import re,time\n",
    "from selenium import webdriver\n",
    "driver=webdriver.Chrome()\n",
    "url = 'https://map.baidu.com/search/%E9%85%92%E5%BA%97/@13401816.6,3523321.62,17z?querytype=nb&r=1000&wd=%E9%85%92%E5%BA%97&nb_x=13401816.60&nb_y=3523321.62&uid=7a0cb8c0d67a634683a00c28&b=(13400809.909611505,3522782.19066226;13402823.09336229,3524093.869264365)&l=17&gr_radius=1000&pn=0&device_ratio=2&da_src=shareurl'\n",
    "driver.get(url)\n",
    "list = []\n",
    "while True:\n",
    "    html = driver.page_source\n",
    "    reobj = re.compile(r'\"list_page\">([\\d\\D]*?)</a>[\\d\\D]*?<span>[\\d\\D]*?<i class=\"seperate\">[|]</i>([\\d\\D]*?)</span>[\\d\\D]*?<span class=\"n-grey\" title=\"([\\d\\D]*?)</span>')\n",
    "    for match in reobj.finditer(html):#循环遍历输出每一个匹配正则的数据\n",
    "        a = match.group(1)#酒店名称\n",
    "        b = match.group(2)#酒店类型\n",
    "        c = match.group(3)#酒店地址\n",
    "        d = (a,b,c)\n",
    "        print(a,b,c)\n",
    "        list.append(d)\n",
    "    match = re.search(r'<a href=\"javascript:void\\(0\\)\" tid=\"toNextPage\" class=\"next next-none\">下一页&gt;</a>', html)\n",
    "    if not match:\n",
    "            driver.find_element_by_link_text(u\"下一页>\").click()\n",
    "            time.sleep(2)\n",
    "    else:\n",
    "            break\n",
    "import codecs\n",
    "f = codecs.open(r\"D:\\zgmmmm.csv\",\"w\",\"utf_8_sig\")\n",
    "f.write(\"酒店名称,类型,地址\\n\")\n",
    "for i in list:\n",
    "   f.write(\",\".join(i)+\"\\n\") \n",
    "f.close()"
   ]
  },
  {
   "cell_type": "code",
   "execution_count": null,
   "metadata": {},
   "outputs": [],
   "source": []
  }
 ],
 "metadata": {
  "kernelspec": {
   "display_name": "Python 3",
   "language": "python",
   "name": "python3"
  },
  "language_info": {
   "codemirror_mode": {
    "name": "ipython",
    "version": 3
   },
   "file_extension": ".py",
   "mimetype": "text/x-python",
   "name": "python",
   "nbconvert_exporter": "python",
   "pygments_lexer": "ipython3",
   "version": "3.7.1"
  }
 },
 "nbformat": 4,
 "nbformat_minor": 2
}
