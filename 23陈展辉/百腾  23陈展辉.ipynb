{
 "cells": [
  {
   "cell_type": "markdown",
   "metadata": {},
   "source": [
    "# 引入模块，网址"
   ]
  },
  {
   "cell_type": "code",
   "execution_count": null,
   "metadata": {},
   "outputs": [],
   "source": [
    "from selenium import webdriver\n",
    "import re,time\n",
    "driver = webdriver.Chrome()\n",
    "urls = [(\"https://pintia.cn/problem-sets/1111652100718116864/problems/type/6\",\"函数题\"),\n",
    "        (\"https://pintia.cn/problem-sets/1111652100718116864/problems/type/7\",\"编程题\")]\n"
   ]
  },
  {
   "cell_type": "markdown",
   "metadata": {},
   "source": [
    "# 打开网址并等待3秒"
   ]
  },
  {
   "cell_type": "code",
   "execution_count": null,
   "metadata": {},
   "outputs": [],
   "source": [
    "def get_html(url):\n",
    "    driver.get(url)\n",
    "    time.sleep(3)\n",
    "    html = driver.page_source\n",
    "    return html"
   ]
  },
  {
   "cell_type": "markdown",
   "metadata": {},
   "source": [
    "# 引用正则"
   ]
  },
  {
   "cell_type": "code",
   "execution_count": null,
   "metadata": {},
   "outputs": [],
   "source": [
    "def extract_info(html,category):\n",
    "    import re\n",
    "    results=[]\n",
    "    reobj = re.compile(r'<td class=\"answerIcon_1du7d\"></td><td>([\\d\\D]*?)</td><td><a href=\"([\\d\\D]*?)\" class=\"\">([\\d\\D]*?)</a></td><td>([\\d\\D]*?)</td><td>([\\d\\D]*?)</td><td>([\\d\\D]*?)</td><td>([\\d\\D]*?)</td></tr>')\n",
    "    for match in reobj.finditer(html):\n",
    "        q=match.group(1)\n",
    "        w=match.group(2)\n",
    "        e=\"https://pintia.cn\" + b\n",
    "        r=match.group(3)\n",
    "        t=match.group(4)\n",
    "        y=match.group(5)\n",
    "        u=match.group(6)\n",
    "        i=match.group(7)\n",
    "        print(\"标号:\",q,\"url:\",w,\"标题:\",e,\"分数:\",r,\"通过数:\",t,\"提交数:\",y,\"通过率:\",u,category)\n",
    "        results.append([category,q,w,e,r,t,y,u])\n",
    "    return results\n"
   ]
  },
  {
   "cell_type": "markdown",
   "metadata": {},
   "source": [
    "# 保存"
   ]
  },
  {
   "cell_type": "code",
   "execution_count": null,
   "metadata": {},
   "outputs": [],
   "source": [
    "results = []\n",
    "for i in urls:\n",
    "    url , category = i\n",
    "    html = get_html(url)\n",
    "    li  = extract_info(html,category)\n",
    "    for elem in li:\n",
    "        results.append(elem)\n",
    "print(results)"
   ]
  }
 ],
 "metadata": {
  "kernelspec": {
   "display_name": "Python 3",
   "language": "python",
   "name": "python3"
  },
  "language_info": {
   "codemirror_mode": {
    "name": "ipython",
    "version": 3
   },
   "file_extension": ".py",
   "mimetype": "text/x-python",
   "name": "python",
   "nbconvert_exporter": "python",
   "pygments_lexer": "ipython3",
   "version": "3.7.1"
  }
 },
 "nbformat": 4,
 "nbformat_minor": 2
}
